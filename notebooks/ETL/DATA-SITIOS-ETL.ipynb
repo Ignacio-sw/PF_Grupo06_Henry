{
 "cells": [
  {
   "cell_type": "code",
   "execution_count": 1,
   "metadata": {},
   "outputs": [],
   "source": [
    "import pandas as pd\n",
    "import json"
   ]
  },
  {
   "cell_type": "markdown",
   "metadata": {},
   "source": [
    "Prueba de codigo de Limpieza y seleccion de categoria en un solo Json"
   ]
  },
  {
   "cell_type": "code",
   "execution_count": 2,
   "metadata": {},
   "outputs": [],
   "source": [
    "df_data_sitios=pd.read_json(r\".\\DataSets\\DataLake\\GOOGLE\\DATA SITIOS\\metadata-sitios\\1.json\",lines=True)"
   ]
  },
  {
   "cell_type": "code",
   "execution_count": 11,
   "metadata": {},
   "outputs": [],
   "source": [
    "df_data_sitios01 = df_data_sitios[df_data_sitios['category'].apply(lambda x: isinstance(x, list) and any(category.lower() in ['restaurant', 'bar', 'pub', 'cafe'] for category in x))]"
   ]
  },
  {
   "cell_type": "code",
   "execution_count": 3,
   "metadata": {},
   "outputs": [
    {
     "data": {
      "text/plain": [
       "(275001, 15)"
      ]
     },
     "execution_count": 3,
     "metadata": {},
     "output_type": "execute_result"
    }
   ],
   "source": [
    "df_data_sitios.shape"
   ]
  },
  {
   "cell_type": "markdown",
   "metadata": {},
   "source": [
    "Ejecucion de codigo Automatizado a nivel de Carpeta para armar CSV final de consumo"
   ]
  },
  {
   "cell_type": "code",
   "execution_count": 4,
   "metadata": {},
   "outputs": [],
   "source": [
    "lista_direcciones_data_sitios=[r\".\\DataSets\\DataLake\\GOOGLE\\DATA SITIOS\\metadata-sitios\\1.json\",\n",
    "                                r\".\\DataSets\\DataLake\\GOOGLE\\DATA SITIOS\\metadata-sitios\\2.json\",\n",
    "                                r\".\\DataSets\\DataLake\\GOOGLE\\DATA SITIOS\\metadata-sitios\\3.json\",\n",
    "                                r\".\\DataSets\\DataLake\\GOOGLE\\DATA SITIOS\\metadata-sitios\\4.json\",\n",
    "                                r\".\\DataSets\\DataLake\\GOOGLE\\DATA SITIOS\\metadata-sitios\\5.json\",\n",
    "                                r\".\\DataSets\\DataLake\\GOOGLE\\DATA SITIOS\\metadata-sitios\\6.json\",\n",
    "                                r\".\\DataSets\\DataLake\\GOOGLE\\DATA SITIOS\\metadata-sitios\\7.json\",\n",
    "                                r\".\\DataSets\\DataLake\\GOOGLE\\DATA SITIOS\\metadata-sitios\\8.json\",\n",
    "                                r\".\\DataSets\\DataLake\\GOOGLE\\DATA SITIOS\\metadata-sitios\\9.json\",\n",
    "                                r\".\\DataSets\\DataLake\\GOOGLE\\DATA SITIOS\\metadata-sitios\\10.json\",\n",
    "                                r\".\\DataSets\\DataLake\\GOOGLE\\DATA SITIOS\\metadata-sitios\\11.json\"]"
   ]
  },
  {
   "cell_type": "code",
   "execution_count": 5,
   "metadata": {},
   "outputs": [],
   "source": [
    "\n",
    "# Crear una lista para almacenar filas que cumplen con los criterios\n",
    "filas_seleccionadas = []\n",
    "\n",
    "# Iterar sobre las rutas de archivos y cargar los datos en la lista\n",
    "for ruta_archivo in lista_direcciones_data_sitios:\n",
    "    with open(ruta_archivo, 'r', encoding='utf-8') as archivo:\n",
    "        for linea in archivo:\n",
    "            try:\n",
    "                data = json.loads(linea)\n",
    "                # Asumiendo que cada archivo tiene una estructura como {'id': ..., 'category': [...]}\n",
    "                if 'category' in data and isinstance(data['category'], list):\n",
    "                    if any(category.lower() in ['restaurant', 'bar', 'pub', 'cafe'] for category in data['category']):\n",
    "                        filas_seleccionadas.append(data)\n",
    "            except json.JSONDecodeError as e:\n",
    "                print(f\"Error al decodificar JSON en {ruta_archivo}: {e}\")\n",
    "\n",
    "# Crear DataFrame a partir de las filas seleccionadas\n",
    "df_data_sitios_final = pd.DataFrame(filas_seleccionadas)\n",
    "\n"
   ]
  },
  {
   "cell_type": "markdown",
   "metadata": {},
   "source": [
    "Verificacion de nuevo archivo CSV y guardado"
   ]
  },
  {
   "cell_type": "code",
   "execution_count": 6,
   "metadata": {},
   "outputs": [
    {
     "data": {
      "text/plain": [
       "(140344, 15)"
      ]
     },
     "execution_count": 6,
     "metadata": {},
     "output_type": "execute_result"
    }
   ],
   "source": [
    "df_data_sitios_final.shape"
   ]
  },
  {
   "cell_type": "markdown",
   "metadata": {},
   "source": [
    "Se eliminan columnas analizadas en el EDA inicial que contienen informacion irrelevante para el producto final"
   ]
  },
  {
   "cell_type": "code",
   "execution_count": 10,
   "metadata": {},
   "outputs": [],
   "source": [
    "df_data_sitios_final.drop(columns=[\"description\", \"price\", \"hours\", \"MISC\", \"state\", \"relative_results\", \"url\"], inplace=True)"
   ]
  },
  {
   "cell_type": "code",
   "execution_count": 16,
   "metadata": {},
   "outputs": [],
   "source": [
    "df_data_sitios_final.drop_duplicates(subset=[\"gmap_id\"], inplace=True)"
   ]
  },
  {
   "cell_type": "code",
   "execution_count": 17,
   "metadata": {},
   "outputs": [
    {
     "data": {
      "text/plain": [
       "(139598, 8)"
      ]
     },
     "execution_count": 17,
     "metadata": {},
     "output_type": "execute_result"
    }
   ],
   "source": [
    "df_data_sitios_final.shape"
   ]
  },
  {
   "cell_type": "code",
   "execution_count": 18,
   "metadata": {},
   "outputs": [],
   "source": [
    "ruta_csv = \".\\DataSets\\DataWarehouse\\data_sitios.csv\"\n",
    "\n",
    "df_data_sitios_final.to_csv(ruta_csv, index=False)"
   ]
  }
 ],
 "metadata": {
  "kernelspec": {
   "display_name": "Python 3",
   "language": "python",
   "name": "python3"
  },
  "language_info": {
   "codemirror_mode": {
    "name": "ipython",
    "version": 3
   },
   "file_extension": ".py",
   "mimetype": "text/x-python",
   "name": "python",
   "nbconvert_exporter": "python",
   "pygments_lexer": "ipython3",
   "version": "3.11.7"
  }
 },
 "nbformat": 4,
 "nbformat_minor": 2
}
