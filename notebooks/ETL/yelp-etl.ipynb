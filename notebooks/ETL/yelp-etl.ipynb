{
 "cells": [
  {
   "cell_type": "code",
   "execution_count": 16,
   "metadata": {},
   "outputs": [],
   "source": [
    "import pandas as pd\n",
    "import os"
   ]
  },
  {
   "cell_type": "markdown",
   "metadata": {},
   "source": [
    "Se cargan rutas de los archivos a analizar"
   ]
  },
  {
   "cell_type": "code",
   "execution_count": 2,
   "metadata": {},
   "outputs": [],
   "source": [
    "path_business=r\"C:\\Users\\Usuario\\Desktop\\GitHub\\DataSets\\DataLake\\YELP\\Yelp\\business.pkl\"\n",
    "path_checkin=r\"C:\\Users\\Usuario\\Desktop\\GitHub\\DataSets\\DataLake\\YELP\\Yelp\\checkin.json\"\n",
    "path_tip=r\"C:\\Users\\Usuario\\Desktop\\GitHub\\DataSets\\DataLake\\YELP\\Yelp\\tip.json\"\n",
    "path_review002=r\"C:\\Users\\Usuario\\Desktop\\GitHub\\DataSets\\DataLake\\YELP\\review-002.json\"\n",
    "path_user001=r\"C:\\Users\\Usuario\\Desktop\\GitHub\\DataSets\\DataLake\\YELP\\user-001.parquet\""
   ]
  },
  {
   "cell_type": "markdown",
   "metadata": {},
   "source": [
    "Archivo \"business.pkl\", el cual se abre y se vuelve a guardar en formato \".csv\" para tratar las columnas duplicadas "
   ]
  },
  {
   "cell_type": "code",
   "execution_count": 56,
   "metadata": {},
   "outputs": [],
   "source": [
    "data_bussines=pd.read_pickle(path_business)"
   ]
  },
  {
   "cell_type": "code",
   "execution_count": 57,
   "metadata": {},
   "outputs": [],
   "source": [
    "data_bussines.to_csv(\"data_bussines.csv\", index=False)"
   ]
  },
  {
   "cell_type": "code",
   "execution_count": 61,
   "metadata": {},
   "outputs": [
    {
     "name": "stderr",
     "output_type": "stream",
     "text": [
      "C:\\Users\\Usuario\\AppData\\Local\\Temp\\ipykernel_7056\\1471421830.py:1: DtypeWarning: Columns (14,15,16,17,18,19,25,26,27) have mixed types. Specify dtype option on import or set low_memory=False.\n",
      "  df_bussines=pd.read_csv(r\"C:\\Users\\Usuario\\Desktop\\GitHub\\notebooks\\ETL\\data_bussines.csv\")\n"
     ]
    }
   ],
   "source": [
    "df_bussines=pd.read_csv(r\"C:\\Users\\Usuario\\Desktop\\GitHub\\notebooks\\ETL\\data_bussines.csv\")"
   ]
  },
  {
   "cell_type": "code",
   "execution_count": 62,
   "metadata": {},
   "outputs": [
    {
     "data": {
      "text/plain": [
       "Index(['business_id', 'name', 'address', 'city', 'state', 'postal_code',\n",
       "       'latitude', 'longitude', 'stars', 'review_count', 'is_open',\n",
       "       'attributes', 'categories', 'hours', 'business_id.1', 'name.1',\n",
       "       'address.1', 'city.1', 'state.1', 'postal_code.1', 'latitude.1',\n",
       "       'longitude.1', 'stars.1', 'review_count.1', 'is_open.1', 'attributes.1',\n",
       "       'categories.1', 'hours.1'],\n",
       "      dtype='object')"
      ]
     },
     "execution_count": 62,
     "metadata": {},
     "output_type": "execute_result"
    }
   ],
   "source": [
    "df_bussines.columns"
   ]
  },
  {
   "cell_type": "markdown",
   "metadata": {},
   "source": [
    "Mediante un analisis prevo, se eliminan las columnas duplicadas y las columnas irrelevantes para el analisis, se verifican los valores nulos completandolos con \"no information\", luego se guarda el dataset para su posterior uso"
   ]
  },
  {
   "cell_type": "code",
   "execution_count": 63,
   "metadata": {},
   "outputs": [],
   "source": [
    "df_bussines.drop(columns=['attributes', 'hours','postal_code','business_id.1', 'name.1',\n",
    "       'address.1', 'city.1', 'state.1', 'postal_code.1', 'latitude.1',\n",
    "       'longitude.1', 'stars.1', 'review_count.1', 'is_open.1', 'attributes.1',\n",
    "       'categories.1', 'hours.1'], inplace=True)"
   ]
  },
  {
   "cell_type": "code",
   "execution_count": 67,
   "metadata": {},
   "outputs": [
    {
     "data": {
      "text/plain": [
       "business_id        0\n",
       "name               0\n",
       "address         5127\n",
       "city               0\n",
       "state              3\n",
       "latitude           0\n",
       "longitude          0\n",
       "stars              0\n",
       "review_count       0\n",
       "is_open            0\n",
       "categories       103\n",
       "dtype: int64"
      ]
     },
     "execution_count": 67,
     "metadata": {},
     "output_type": "execute_result"
    }
   ],
   "source": [
    "valores_nulos_por_columna = df_bussines.isnull().sum()\n",
    "valores_nulos_por_columna"
   ]
  },
  {
   "cell_type": "code",
   "execution_count": null,
   "metadata": {},
   "outputs": [],
   "source": [
    "df_bussines.fillna(\"No Information\")"
   ]
  },
  {
   "cell_type": "code",
   "execution_count": 72,
   "metadata": {},
   "outputs": [],
   "source": [
    "df_bussines.to_csv(r\"C:\\Users\\Usuario\\Desktop\\GitHub\\DataSets\\DataWarehouse\\business.csv\", index=False)"
   ]
  },
  {
   "cell_type": "markdown",
   "metadata": {},
   "source": [
    "Se elimina el DataSet provisorio para que no ocupe almacenamiento ya que no se va a utilizar"
   ]
  },
  {
   "cell_type": "code",
   "execution_count": 17,
   "metadata": {},
   "outputs": [],
   "source": [
    "os.remove(r\"C:\\Users\\Usuario\\Desktop\\GitHub\\notebooks\\ETL\\data_bussines.csv\")"
   ]
  },
  {
   "cell_type": "markdown",
   "metadata": {},
   "source": [
    "Archivo \"tip.json\""
   ]
  },
  {
   "cell_type": "code",
   "execution_count": 73,
   "metadata": {},
   "outputs": [],
   "source": [
    "data_tip=pd.read_json(path_tip, lines=True)\n"
   ]
  },
  {
   "cell_type": "code",
   "execution_count": 74,
   "metadata": {},
   "outputs": [],
   "source": [
    "data_tip.drop(columns=\"compliment_count\", inplace=True)"
   ]
  },
  {
   "cell_type": "code",
   "execution_count": 76,
   "metadata": {},
   "outputs": [
    {
     "data": {
      "text/plain": [
       "user_id        0\n",
       "business_id    0\n",
       "text           0\n",
       "date           0\n",
       "dtype: int64"
      ]
     },
     "execution_count": 76,
     "metadata": {},
     "output_type": "execute_result"
    }
   ],
   "source": [
    "valores_nulos_por_columna = data_tip.isnull().sum()\n",
    "valores_nulos_por_columna"
   ]
  },
  {
   "cell_type": "code",
   "execution_count": null,
   "metadata": {},
   "outputs": [],
   "source": [
    "data_tip.to_csv(r\"C:\\Users\\Usuario\\Desktop\\GitHub\\DataSets\\DataWarehouse\\Tip.csv\", index=False)"
   ]
  },
  {
   "cell_type": "markdown",
   "metadata": {},
   "source": [
    "Archivo \"cheking.json\""
   ]
  },
  {
   "cell_type": "code",
   "execution_count": 3,
   "metadata": {},
   "outputs": [],
   "source": [
    "data_chekin=pd.read_json(r\"C:\\Users\\Usuario\\Desktop\\GitHub\\DataSets\\DataLake\\YELP\\Yelp\\checkin.json\", lines=True)"
   ]
  },
  {
   "cell_type": "code",
   "execution_count": 5,
   "metadata": {},
   "outputs": [
    {
     "data": {
      "text/plain": [
       "business_id    0\n",
       "date           0\n",
       "dtype: int64"
      ]
     },
     "execution_count": 5,
     "metadata": {},
     "output_type": "execute_result"
    }
   ],
   "source": [
    "valores_nulos_por_columna = data_chekin.isnull().sum()\n",
    "valores_nulos_por_columna"
   ]
  },
  {
   "cell_type": "code",
   "execution_count": 7,
   "metadata": {},
   "outputs": [],
   "source": [
    "data_chekin.to_csv(r\"C:\\Users\\Usuario\\Desktop\\GitHub\\DataSets\\DataWarehouse\\Checkin.csv\", index=False)"
   ]
  },
  {
   "cell_type": "markdown",
   "metadata": {},
   "source": [
    "Archivo \"review-002.json\""
   ]
  },
  {
   "cell_type": "code",
   "execution_count": 18,
   "metadata": {},
   "outputs": [],
   "source": [
    "data_review002=pd.read_json(path_review002, lines=True, nrows=100)"
   ]
  },
  {
   "cell_type": "code",
   "execution_count": 9,
   "metadata": {},
   "outputs": [
    {
     "data": {
      "text/plain": [
       "review_id      0\n",
       "user_id        0\n",
       "business_id    0\n",
       "stars          0\n",
       "useful         0\n",
       "funny          0\n",
       "cool           0\n",
       "text           0\n",
       "date           0\n",
       "dtype: int64"
      ]
     },
     "execution_count": 9,
     "metadata": {},
     "output_type": "execute_result"
    }
   ],
   "source": [
    "valores_nulos_por_columna = data_review002.isnull().sum()\n",
    "valores_nulos_por_columna"
   ]
  },
  {
   "cell_type": "code",
   "execution_count": 19,
   "metadata": {},
   "outputs": [],
   "source": [
    "#NO SE GUARDA PORQUE PARA ABRIR EL ARCHIVO SE LIMITO A 100 FILAS\n",
    "##data_review002.to_csv(r\"C:\\Users\\Usuario\\Desktop\\GitHub\\DataSets\\DataWarehouse\\Review002.csv\", index=False)"
   ]
  },
  {
   "cell_type": "markdown",
   "metadata": {},
   "source": [
    "Archivo \"user-001,parquet\""
   ]
  },
  {
   "cell_type": "code",
   "execution_count": 10,
   "metadata": {},
   "outputs": [],
   "source": [
    "data_user001=pd.read_parquet(path_user001)"
   ]
  },
  {
   "cell_type": "code",
   "execution_count": 13,
   "metadata": {},
   "outputs": [
    {
     "data": {
      "text/plain": [
       "user_id               0\n",
       "name                  0\n",
       "review_count          0\n",
       "yelping_since         0\n",
       "useful                0\n",
       "funny                 0\n",
       "cool                  0\n",
       "elite                 0\n",
       "friends               0\n",
       "fans                  0\n",
       "average_stars         0\n",
       "compliment_hot        0\n",
       "compliment_more       0\n",
       "compliment_profile    0\n",
       "compliment_cute       0\n",
       "compliment_list       0\n",
       "compliment_note       0\n",
       "compliment_plain      0\n",
       "compliment_cool       0\n",
       "compliment_funny      0\n",
       "compliment_writer     0\n",
       "compliment_photos     0\n",
       "dtype: int64"
      ]
     },
     "execution_count": 13,
     "metadata": {},
     "output_type": "execute_result"
    }
   ],
   "source": [
    "valores_nulos_por_columna = data_user001.isnull().sum()\n",
    "valores_nulos_por_columna"
   ]
  },
  {
   "cell_type": "markdown",
   "metadata": {},
   "source": [
    "Se eliminan columnas que se consideran irrelevantes para el analisis futuro, ademas de contener informacion redundante"
   ]
  },
  {
   "cell_type": "code",
   "execution_count": 14,
   "metadata": {},
   "outputs": [],
   "source": [
    "data_user001.drop(columns=['elite','friends','compliment_hot','compliment_more', 'compliment_profile', 'compliment_cute','compliment_list', 'compliment_note', 'compliment_plain',\n",
    "        'compliment_cool', 'compliment_funny', 'compliment_writer','compliment_photos'], inplace=True)"
   ]
  },
  {
   "cell_type": "code",
   "execution_count": 20,
   "metadata": {},
   "outputs": [],
   "source": [
    "data_user001.to_csv(r\"C:\\Users\\Usuario\\Desktop\\GitHub\\DataSets\\DataWarehouse\\Yelp-CF-Users.csv\", index=False)"
   ]
  }
 ],
 "metadata": {
  "kernelspec": {
   "display_name": "Python 3",
   "language": "python",
   "name": "python3"
  },
  "language_info": {
   "codemirror_mode": {
    "name": "ipython",
    "version": 3
   },
   "file_extension": ".py",
   "mimetype": "text/x-python",
   "name": "python",
   "nbconvert_exporter": "python",
   "pygments_lexer": "ipython3",
   "version": "3.11.7"
  }
 },
 "nbformat": 4,
 "nbformat_minor": 2
}
