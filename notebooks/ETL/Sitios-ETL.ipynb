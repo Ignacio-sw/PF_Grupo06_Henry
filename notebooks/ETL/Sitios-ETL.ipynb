{
 "cells": [
  {
   "cell_type": "code",
   "execution_count": 6,
   "metadata": {},
   "outputs": [],
   "source": [
    "import pandas as pd \n",
    "import numpy as np  \n",
    "import os\n",
    "import pickle\n",
    "import json"
   ]
  },
  {
   "cell_type": "code",
   "execution_count": 7,
   "metadata": {},
   "outputs": [],
   "source": [
    "paths = []\n",
    "for root, dirs, files in os.walk(r'C:\\Users\\Usuario\\Desktop\\GitHub\\DataSets\\DataLake\\REVIEW-ESTADOS'):\n",
    "    for state in files:\n",
    "        paths.append(root + '/' + state)"
   ]
  },
  {
   "cell_type": "markdown",
   "metadata": {},
   "source": [
    "este anda"
   ]
  },
  {
   "cell_type": "code",
   "execution_count": 16,
   "metadata": {},
   "outputs": [],
   "source": [
    "import os\n",
    "import json\n",
    "import pandas as pd\n",
    "\n",
    "def procesar_archivo_json(archivo_json, tamano_parte, ruta_destino):\n",
    "    with open(archivo_json, 'r') as file:\n",
    "        parte_actual = []\n",
    "        num_parte = 1\n",
    "        \n",
    "        for linea in file:\n",
    "            objeto_json = json.loads(linea)\n",
    "            parte_actual.append(objeto_json)\n",
    "            \n",
    "            if len(parte_actual) >= tamano_parte:\n",
    "                # Procesar la parte actual\n",
    "                procesar_y_guardar_parte(parte_actual, num_parte, ruta_destino)\n",
    "                parte_actual = []\n",
    "                num_parte += 1\n",
    "                \n",
    "        # Procesar la última parte si quedan datos\n",
    "        if parte_actual:\n",
    "            procesar_y_guardar_parte(parte_actual, num_parte, ruta_destino)\n",
    "\n",
    "def procesar_y_guardar_parte(parte, num_parte, ruta_destino):\n",
    "    df = pd.DataFrame(parte)\n",
    "    df.to_csv(os.path.join(ruta_destino, f\"parte_{num_parte}.csv\"), index=False)\n",
    "\n",
    "# Archivo JSON de entrada\n",
    "archivo_json = r\"C:\\Users\\Usuario\\Desktop\\GitHub\\DataSets\\DataLake\\REVIEW-ESTADOS\\reviews-estados\\review-Alaska\\1.json\"\n",
    "tamano_parte = 100000  # Número máximo de registros por parte\n",
    "ruta_destino = r\"C:\\Users\\Usuario\\Desktop\\GitHub\\DataSets\\DataLake\\REVIEW-ESTADOS\\reviews-estados\\review-Alaska\"\n",
    "\n",
    "procesar_archivo_json(archivo_json, tamano_parte, ruta_destino)\n"
   ]
  },
  {
   "cell_type": "markdown",
   "metadata": {},
   "source": [
    "anda partiendo los archivos"
   ]
  },
  {
   "cell_type": "code",
   "execution_count": 18,
   "metadata": {},
   "outputs": [],
   "source": [
    "import os\n",
    "import json\n",
    "import pandas as pd\n",
    "\n",
    "def procesar_archivo_json(archivo_json, tamano_parte):\n",
    "    with open(archivo_json, 'r') as file:\n",
    "        parte_actual = []\n",
    "        num_parte = 1\n",
    "        \n",
    "        for linea in file:\n",
    "            objeto_json = json.loads(linea)\n",
    "            parte_actual.append(objeto_json)\n",
    "            \n",
    "            if len(parte_actual) >= tamano_parte:\n",
    "                # Procesar la parte actual\n",
    "                procesar_y_guardar_parte(parte_actual, num_parte, archivo_json)\n",
    "                parte_actual = []\n",
    "                num_parte += 1\n",
    "                \n",
    "        # Procesar la última parte si quedan datos\n",
    "        if parte_actual:\n",
    "            procesar_y_guardar_parte(parte_actual, num_parte, archivo_json)\n",
    "\n",
    "def procesar_y_guardar_parte(parte, num_parte, archivo_json):\n",
    "    df = pd.DataFrame(parte)\n",
    "    nombre_archivo = os.path.splitext(os.path.basename(archivo_json))[0]\n",
    "    ruta_destino = os.path.dirname(archivo_json)\n",
    "    df.to_csv(os.path.join(ruta_destino, f\"{nombre_archivo}_parte_{num_parte}.csv\"), index=False)\n",
    "\n",
    "# Directorio donde se encuentran los archivos JSON\n",
    "directorio_origen = r'C:\\Users\\Usuario\\Desktop\\GitHub\\DataSets\\DataLake\\REVIEW-ESTADOS\\reviews-estados\\review-Alaska'\n",
    "tamano_parte = 100000  # Número máximo de registros por parte\n",
    "\n",
    "# Recorrer cada archivo en el directorio de origen\n",
    "for archivo in os.listdir(directorio_origen):\n",
    "    if archivo.endswith(\".json\"):\n",
    "        archivo_json = os.path.join(directorio_origen, archivo)\n",
    "        procesar_archivo_json(archivo_json, tamano_parte)\n",
    "\n"
   ]
  },
  {
   "cell_type": "markdown",
   "metadata": {},
   "source": [
    "este es el definitivooo..hay que agregar si falta hacer mas procesos de ETL"
   ]
  },
  {
   "cell_type": "code",
   "execution_count": 19,
   "metadata": {},
   "outputs": [],
   "source": [
    "import os\n",
    "import json\n",
    "import pandas as pd\n",
    "\n",
    "def procesar_archivo_json(archivo_json, tamano_parte, ruta_destino):\n",
    "    with open(archivo_json, 'r') as file:\n",
    "        parte_actual = []\n",
    "        num_parte = 1\n",
    "        \n",
    "        for linea in file:\n",
    "            objeto_json = json.loads(linea)\n",
    "            parte_actual.append(objeto_json)\n",
    "            \n",
    "            if len(parte_actual) >= tamano_parte:\n",
    "                # Procesar la parte actual\n",
    "                procesar_y_guardar_parte(parte_actual, num_parte, archivo_json, ruta_destino)\n",
    "                parte_actual = []\n",
    "                num_parte += 1\n",
    "                \n",
    "        # Procesar la última parte si quedan datos\n",
    "        if parte_actual:\n",
    "            procesar_y_guardar_parte(parte_actual, num_parte, archivo_json, ruta_destino)\n",
    "\n",
    "def procesar_y_guardar_parte(parte, num_parte, archivo_json):\n",
    "    df = pd.DataFrame(parte)\n",
    "    \n",
    "    # Proceso de ETL\n",
    "    for columna in df.columns:\n",
    "        if df[columna].dtype == 'object':\n",
    "            # Si la columna es de texto, llenar los valores nulos con \"No data\" y eliminar espacios en blanco y saltos de línea\n",
    "            df[columna] = df[columna].fillna(\"No data\").str.strip()\n",
    "        elif df[columna].dtype in ['int64', 'float64']:\n",
    "            # Si la columna es numérica, llenar los valores nulos con 0\n",
    "            df[columna] = df[columna].fillna(0)\n",
    "    \n",
    "    # Eliminar duplicados\n",
    "    df.drop_duplicates(inplace=True)\n",
    "    \n",
    "    # Guardar la parte procesada en un archivo CSV\n",
    "    nombre_archivo = os.path.splitext(os.path.basename(archivo_json))[0]\n",
    "    ruta_destino = os.path.dirname(archivo_json)\n",
    "    df.to_csv(os.path.join(ruta_destino, f\"{nombre_archivo}_parte_{num_parte}.csv\"), index=False)\n",
    "\n",
    "# Directorio donde se encuentran los archivos JSON\n",
    "directorio_origen = r'C:\\Users\\Usuario\\Desktop\\GitHub\\DataSets\\DataLake\\REVIEW-ESTADOS\\reviews-estados\\review-Alaska'\n",
    "tamano_parte = 100000  # Número máximo de registros por parte\n",
    "\n",
    "# Recorrer cada archivo en el directorio de origen\n",
    "for archivo in os.listdir(directorio_origen):\n",
    "    if archivo.endswith(\".json\"):\n",
    "        archivo_json = os.path.join(directorio_origen, archivo)\n",
    "        procesar_archivo_json(archivo_json, tamano_parte)\n"
   ]
  }
 ],
 "metadata": {
  "kernelspec": {
   "display_name": "Python 3",
   "language": "python",
   "name": "python3"
  },
  "language_info": {
   "codemirror_mode": {
    "name": "ipython",
    "version": 3
   },
   "file_extension": ".py",
   "mimetype": "text/x-python",
   "name": "python",
   "nbconvert_exporter": "python",
   "pygments_lexer": "ipython3",
   "version": "3.12.0"
  }
 },
 "nbformat": 4,
 "nbformat_minor": 2
}
