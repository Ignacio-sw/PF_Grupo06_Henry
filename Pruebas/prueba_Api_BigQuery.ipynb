{
 "cells": [
  {
   "cell_type": "code",
   "execution_count": null,
   "metadata": {},
   "outputs": [],
   "source": [
    "from google.cloud import bigquery\n",
    "from pyspark.sql import SparkSession\n",
    "import os"
   ]
  },
  {
   "cell_type": "code",
   "execution_count": null,
   "metadata": {},
   "outputs": [],
   "source": [
    "#comfiguramos la variable de entorno para que apunte \n",
    "os.environ[\"GOOGLE_APPLICATION_CREDENTIALS\"]=\"..\\credenciales.json\""
   ]
  },
  {
   "cell_type": "code",
   "execution_count": null,
   "metadata": {},
   "outputs": [],
   "source": [
    "spark = SparkSession.builder.appName(\"BigQueryToSpark\").getOrCreate()\n",
    "\n",
    "# Define la consulta SQL\n",
    "query = \"\"\"\n",
    "SELECT * \n",
    "FROM `Datawarehouse_PF.reviews_alabama`\n",
    "\"\"\"\n",
    "\n",
    "# Ejecuta la consulta SQL y almacena el resultado en un DataFrame de Spark\n",
    "result_df = spark.read.format(\"bigquery\").option(\"table\", query).load()\n",
    "\n",
    "# Imprime el DataFrame de Spark\n",
    "result_df.show()"
   ]
  },
  {
   "cell_type": "code",
   "execution_count": null,
   "metadata": {},
   "outputs": [],
   "source": [
    "client=bigquery.Client()\n",
    "\n",
    "query=\"\"\"\n",
    "SELECT * \n",
    "from `Datawarehouse_PF.reviews-alabama`\n",
    "\"\"\"\n",
    "\n",
    "result=client.query(query)\n"
   ]
  }
 ],
 "metadata": {
  "kernelspec": {
   "display_name": "env-bigdata",
   "language": "python",
   "name": "python3"
  },
  "language_info": {
   "codemirror_mode": {
    "name": "ipython",
    "version": 3
   },
   "file_extension": ".py",
   "mimetype": "text/x-python",
   "name": "python",
   "nbconvert_exporter": "python",
   "pygments_lexer": "ipython3",
   "version": "3.11.7"
  }
 },
 "nbformat": 4,
 "nbformat_minor": 2
}
