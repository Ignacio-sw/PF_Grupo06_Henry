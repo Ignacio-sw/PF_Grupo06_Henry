{
 "cells": [
  {
   "cell_type": "code",
   "execution_count": null,
   "metadata": {},
   "outputs": [],
   "source": [
    "from pyspark.sql import SparkSession\n",
    "from google.cloud import bigquery\n",
    "from google.oauth2 import service_account"
   ]
  },
  {
   "cell_type": "code",
   "execution_count": null,
   "metadata": {},
   "outputs": [],
   "source": [
    "# Forma 1 de crear una instancia de SparkSession\n",
    "spark = SparkSession.builder.appName(\"EjemploLecturaJSON\").getOrCreate()"
   ]
  },
  {
   "cell_type": "code",
   "execution_count": null,
   "metadata": {},
   "outputs": [],
   "source": [
    "ruta_json = \"../Dataset_Original/Yelp/review-001.json\"\n",
    "\n",
    "#leemos el archivo JSON en un DataFrame de Spark\n",
    "df = spark.read.json(ruta_json)\n",
    "\n",
    "#mostramos el contenido del DataFrame\n",
    "df.show()"
   ]
  },
  {
   "cell_type": "code",
   "execution_count": null,
   "metadata": {},
   "outputs": [],
   "source": [
    "# Crea o reemplaza una vista temporal para el DataFrame\n",
    "df.createOrReplaceTempView(\"pruebaTabla1\")"
   ]
  },
  {
   "cell_type": "code",
   "execution_count": null,
   "metadata": {},
   "outputs": [],
   "source": [
    "# Ejecuta una consulta SQL\n",
    "resultado_sql = spark.sql(\"SELECT count(*) FROM mi_tabla\")\n",
    "\n",
    "# Muestra el resultado\n",
    "resultado_sql.show()"
   ]
  }
 ],
 "metadata": {
  "language_info": {
   "name": "python"
  }
 },
 "nbformat": 4,
 "nbformat_minor": 2
}
