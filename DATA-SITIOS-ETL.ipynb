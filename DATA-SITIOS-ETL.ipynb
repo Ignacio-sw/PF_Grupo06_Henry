{
 "cells": [
  {
   "cell_type": "code",
   "execution_count": 1,
   "metadata": {},
   "outputs": [],
   "source": [
    "import pandas as pd\n",
    "import json"
   ]
  },
  {
   "cell_type": "markdown",
   "metadata": {},
   "source": [
    "Prueba de codigo de Limpieza y seleccion de categoria en un solo Json"
   ]
  },
  {
   "cell_type": "code",
   "execution_count": 2,
   "metadata": {},
   "outputs": [],
   "source": [
    "df_data_sitios=pd.read_json(r\"C:\\Users\\Usuario\\Desktop\\PROYECTO_FINAL\\GOOGLE\\DATA SITIOS\\metadata-sitios\\1.json\",lines=True)"
   ]
  },
  {
   "cell_type": "code",
   "execution_count": 11,
   "metadata": {},
   "outputs": [],
   "source": [
    "df_data_sitios01 = df_data_sitios[df_data_sitios['category'].apply(lambda x: isinstance(x, list) and any(category.lower() in ['restaurant', 'bar', 'pub', 'cafe'] for category in x))]"
   ]
  },
  {
   "cell_type": "code",
   "execution_count": 14,
   "metadata": {},
   "outputs": [
    {
     "data": {
      "text/plain": [
       "(275001, 15)"
      ]
     },
     "execution_count": 14,
     "metadata": {},
     "output_type": "execute_result"
    }
   ],
   "source": [
    "df_data_sitios.shape"
   ]
  },
  {
   "cell_type": "markdown",
   "metadata": {},
   "source": [
    "Ejecucion de codigo Automatizado a nivel de Carpeta para armar CSV final de consumo"
   ]
  },
  {
   "cell_type": "code",
   "execution_count": 19,
   "metadata": {},
   "outputs": [],
   "source": [
    "lista_direcciones_data_sitios=[r\"C:\\Users\\Usuario\\Desktop\\PROYECTO_FINAL\\GOOGLE\\DATA SITIOS\\metadata-sitios\\1.json\",\n",
    "                                r\"C:\\Users\\Usuario\\Desktop\\PROYECTO_FINAL\\GOOGLE\\DATA SITIOS\\metadata-sitios\\2.json\",\n",
    "                                r\"C:\\Users\\Usuario\\Desktop\\PROYECTO_FINAL\\GOOGLE\\DATA SITIOS\\metadata-sitios\\3.json\",\n",
    "                                r\"C:\\Users\\Usuario\\Desktop\\PROYECTO_FINAL\\GOOGLE\\DATA SITIOS\\metadata-sitios\\4.json\",\n",
    "                                r\"C:\\Users\\Usuario\\Desktop\\PROYECTO_FINAL\\GOOGLE\\DATA SITIOS\\metadata-sitios\\5.json\",\n",
    "                                r\"C:\\Users\\Usuario\\Desktop\\PROYECTO_FINAL\\GOOGLE\\DATA SITIOS\\metadata-sitios\\6.json\",\n",
    "                                r\"C:\\Users\\Usuario\\Desktop\\PROYECTO_FINAL\\GOOGLE\\DATA SITIOS\\metadata-sitios\\7.json\",\n",
    "                                r\"C:\\Users\\Usuario\\Desktop\\PROYECTO_FINAL\\GOOGLE\\DATA SITIOS\\metadata-sitios\\8.json\",\n",
    "                                r\"C:\\Users\\Usuario\\Desktop\\PROYECTO_FINAL\\GOOGLE\\DATA SITIOS\\metadata-sitios\\9.json\",\n",
    "                                r\"C:\\Users\\Usuario\\Desktop\\PROYECTO_FINAL\\GOOGLE\\DATA SITIOS\\metadata-sitios\\10.json\",\n",
    "                                r\"C:\\Users\\Usuario\\Desktop\\PROYECTO_FINAL\\GOOGLE\\DATA SITIOS\\metadata-sitios\\11.json\"]"
   ]
  },
  {
   "cell_type": "code",
   "execution_count": null,
   "metadata": {},
   "outputs": [],
   "source": [
    "\n",
    "# Crear una lista para almacenar filas que cumplen con los criterios\n",
    "filas_seleccionadas = []\n",
    "\n",
    "# Iterar sobre las rutas de archivos y cargar los datos en la lista\n",
    "for ruta_archivo in lista_direcciones_data_sitios:\n",
    "    with open(ruta_archivo, 'r', encoding='utf-8') as archivo:\n",
    "        for linea in archivo:\n",
    "            try:\n",
    "                data = json.loads(linea)\n",
    "                # Asumiendo que cada archivo tiene una estructura como {'id': ..., 'category': [...]}\n",
    "                if 'category' in data and isinstance(data['category'], list):\n",
    "                    if any(category.lower() in ['restaurant', 'bar', 'pub', 'cafe'] for category in data['category']):\n",
    "                        filas_seleccionadas.append(data)\n",
    "            except json.JSONDecodeError as e:\n",
    "                print(f\"Error al decodificar JSON en {ruta_archivo}: {e}\")\n",
    "\n",
    "# Crear DataFrame a partir de las filas seleccionadas\n",
    "df_data_sitios_final = pd.DataFrame(filas_seleccionadas)\n",
    "\n"
   ]
  },
  {
   "cell_type": "markdown",
   "metadata": {},
   "source": [
    "Verificacion de nuevo archivo CSV y guardado"
   ]
  },
  {
   "cell_type": "code",
   "execution_count": 37,
   "metadata": {},
   "outputs": [
    {
     "data": {
      "text/plain": [
       "(140344, 15)"
      ]
     },
     "execution_count": 37,
     "metadata": {},
     "output_type": "execute_result"
    }
   ],
   "source": [
    "df_data_sitios_final.shape"
   ]
  },
  {
   "cell_type": "code",
   "execution_count": 35,
   "metadata": {},
   "outputs": [
    {
     "data": {
      "text/html": [
       "<div>\n",
       "<style scoped>\n",
       "    .dataframe tbody tr th:only-of-type {\n",
       "        vertical-align: middle;\n",
       "    }\n",
       "\n",
       "    .dataframe tbody tr th {\n",
       "        vertical-align: top;\n",
       "    }\n",
       "\n",
       "    .dataframe thead th {\n",
       "        text-align: right;\n",
       "    }\n",
       "</style>\n",
       "<table border=\"1\" class=\"dataframe\">\n",
       "  <thead>\n",
       "    <tr style=\"text-align: right;\">\n",
       "      <th></th>\n",
       "      <th>name</th>\n",
       "      <th>address</th>\n",
       "      <th>gmap_id</th>\n",
       "      <th>description</th>\n",
       "      <th>latitude</th>\n",
       "      <th>longitude</th>\n",
       "      <th>category</th>\n",
       "      <th>avg_rating</th>\n",
       "      <th>num_of_reviews</th>\n",
       "      <th>price</th>\n",
       "      <th>hours</th>\n",
       "      <th>MISC</th>\n",
       "      <th>state</th>\n",
       "      <th>relative_results</th>\n",
       "      <th>url</th>\n",
       "    </tr>\n",
       "  </thead>\n",
       "  <tbody>\n",
       "    <tr>\n",
       "      <th>0</th>\n",
       "      <td>Vons Chicken</td>\n",
       "      <td>Vons Chicken, 12740 La Mirada Blvd, La Mirada,...</td>\n",
       "      <td>0x80dd2b4c8555edb7:0xfc33d65c4bdbef42</td>\n",
       "      <td>None</td>\n",
       "      <td>33.916402</td>\n",
       "      <td>-118.010855</td>\n",
       "      <td>[Restaurant]</td>\n",
       "      <td>4.5</td>\n",
       "      <td>18</td>\n",
       "      <td>None</td>\n",
       "      <td>[[Thursday, 11AM–9:30PM], [Friday, 11AM–9:30PM...</td>\n",
       "      <td>{'Service options': ['Outdoor seating', 'Curbs...</td>\n",
       "      <td>Open ⋅ Closes 9:30PM</td>\n",
       "      <td>None</td>\n",
       "      <td>https://www.google.com/maps/place//data=!4m2!3...</td>\n",
       "    </tr>\n",
       "    <tr>\n",
       "      <th>1</th>\n",
       "      <td>Vivi Bubble Tea</td>\n",
       "      <td>Vivi Bubble Tea, 701 S 5th St, Philadelphia, P...</td>\n",
       "      <td>0x89c6c89efcaed69d:0xded973f6033e7dba</td>\n",
       "      <td>Bubble tea shop offering hot &amp; cold versions, ...</td>\n",
       "      <td>39.940293</td>\n",
       "      <td>-75.150923</td>\n",
       "      <td>[Restaurant]</td>\n",
       "      <td>4.0</td>\n",
       "      <td>8</td>\n",
       "      <td>None</td>\n",
       "      <td>None</td>\n",
       "      <td>{'Service options': ['Delivery'], 'Amenities':...</td>\n",
       "      <td>None</td>\n",
       "      <td>[0x89c6c62a40f4b733:0x73bfeec1898f272b, 0x89c6...</td>\n",
       "      <td>https://www.google.com/maps/place//data=!4m2!3...</td>\n",
       "    </tr>\n",
       "    <tr>\n",
       "      <th>2</th>\n",
       "      <td>The Bar Stool</td>\n",
       "      <td>The Bar Stool, 618 Main St, Highland, WI 53543</td>\n",
       "      <td>0x87fd0e70c5f5d87b:0xdf340eeb75040ef3</td>\n",
       "      <td>None</td>\n",
       "      <td>43.046428</td>\n",
       "      <td>-90.380139</td>\n",
       "      <td>[Bar]</td>\n",
       "      <td>4.5</td>\n",
       "      <td>18</td>\n",
       "      <td>None</td>\n",
       "      <td>None</td>\n",
       "      <td>{'Service options': ['Dine-in', 'Delivery'], '...</td>\n",
       "      <td>None</td>\n",
       "      <td>[0x87fd0e70dc5eeb3d:0x7f3ce1daba0a5f24, 0x87fd...</td>\n",
       "      <td>https://www.google.com/maps/place//data=!4m2!3...</td>\n",
       "    </tr>\n",
       "    <tr>\n",
       "      <th>3</th>\n",
       "      <td>Hale Pops</td>\n",
       "      <td>Hale Pops, 55-370 Kamehameha Hwy, Laie, HI 96762</td>\n",
       "      <td>0x7c00456eecad3111:0x8217f9600c51f33</td>\n",
       "      <td>None</td>\n",
       "      <td>21.637796</td>\n",
       "      <td>-157.920714</td>\n",
       "      <td>[Restaurant]</td>\n",
       "      <td>4.4</td>\n",
       "      <td>18</td>\n",
       "      <td>None</td>\n",
       "      <td>[[Thursday, 11AM–8PM], [Friday, 11AM–8PM], [Sa...</td>\n",
       "      <td>{'Service options': ['Outdoor seating', 'Takeo...</td>\n",
       "      <td>Closed ⋅ Opens 11AM</td>\n",
       "      <td>[0x7c00451360f80cf1:0x930291a38bab3132, 0x7c00...</td>\n",
       "      <td>https://www.google.com/maps/place//data=!4m2!3...</td>\n",
       "    </tr>\n",
       "    <tr>\n",
       "      <th>4</th>\n",
       "      <td>Cape Seafood Shack</td>\n",
       "      <td>Cape Seafood Shack, 603 Del Prado Blvd S, Cape...</td>\n",
       "      <td>0x88db4147b1d9e6f3:0x943dbd10a92ba1b1</td>\n",
       "      <td>None</td>\n",
       "      <td>26.641377</td>\n",
       "      <td>-81.940545</td>\n",
       "      <td>[Restaurant]</td>\n",
       "      <td>5.0</td>\n",
       "      <td>1</td>\n",
       "      <td>$$</td>\n",
       "      <td>None</td>\n",
       "      <td>{'Service options': ['Dine-in', 'Delivery'], '...</td>\n",
       "      <td>None</td>\n",
       "      <td>None</td>\n",
       "      <td>https://www.google.com/maps/place//data=!4m2!3...</td>\n",
       "    </tr>\n",
       "  </tbody>\n",
       "</table>\n",
       "</div>"
      ],
      "text/plain": [
       "                 name                                            address  \\\n",
       "0        Vons Chicken  Vons Chicken, 12740 La Mirada Blvd, La Mirada,...   \n",
       "1     Vivi Bubble Tea  Vivi Bubble Tea, 701 S 5th St, Philadelphia, P...   \n",
       "2       The Bar Stool     The Bar Stool, 618 Main St, Highland, WI 53543   \n",
       "3           Hale Pops   Hale Pops, 55-370 Kamehameha Hwy, Laie, HI 96762   \n",
       "4  Cape Seafood Shack  Cape Seafood Shack, 603 Del Prado Blvd S, Cape...   \n",
       "\n",
       "                                 gmap_id  \\\n",
       "0  0x80dd2b4c8555edb7:0xfc33d65c4bdbef42   \n",
       "1  0x89c6c89efcaed69d:0xded973f6033e7dba   \n",
       "2  0x87fd0e70c5f5d87b:0xdf340eeb75040ef3   \n",
       "3   0x7c00456eecad3111:0x8217f9600c51f33   \n",
       "4  0x88db4147b1d9e6f3:0x943dbd10a92ba1b1   \n",
       "\n",
       "                                         description   latitude   longitude  \\\n",
       "0                                               None  33.916402 -118.010855   \n",
       "1  Bubble tea shop offering hot & cold versions, ...  39.940293  -75.150923   \n",
       "2                                               None  43.046428  -90.380139   \n",
       "3                                               None  21.637796 -157.920714   \n",
       "4                                               None  26.641377  -81.940545   \n",
       "\n",
       "       category  avg_rating  num_of_reviews price  \\\n",
       "0  [Restaurant]         4.5              18  None   \n",
       "1  [Restaurant]         4.0               8  None   \n",
       "2         [Bar]         4.5              18  None   \n",
       "3  [Restaurant]         4.4              18  None   \n",
       "4  [Restaurant]         5.0               1    $$   \n",
       "\n",
       "                                               hours  \\\n",
       "0  [[Thursday, 11AM–9:30PM], [Friday, 11AM–9:30PM...   \n",
       "1                                               None   \n",
       "2                                               None   \n",
       "3  [[Thursday, 11AM–8PM], [Friday, 11AM–8PM], [Sa...   \n",
       "4                                               None   \n",
       "\n",
       "                                                MISC                 state  \\\n",
       "0  {'Service options': ['Outdoor seating', 'Curbs...  Open ⋅ Closes 9:30PM   \n",
       "1  {'Service options': ['Delivery'], 'Amenities':...                  None   \n",
       "2  {'Service options': ['Dine-in', 'Delivery'], '...                  None   \n",
       "3  {'Service options': ['Outdoor seating', 'Takeo...   Closed ⋅ Opens 11AM   \n",
       "4  {'Service options': ['Dine-in', 'Delivery'], '...                  None   \n",
       "\n",
       "                                    relative_results  \\\n",
       "0                                               None   \n",
       "1  [0x89c6c62a40f4b733:0x73bfeec1898f272b, 0x89c6...   \n",
       "2  [0x87fd0e70dc5eeb3d:0x7f3ce1daba0a5f24, 0x87fd...   \n",
       "3  [0x7c00451360f80cf1:0x930291a38bab3132, 0x7c00...   \n",
       "4                                               None   \n",
       "\n",
       "                                                 url  \n",
       "0  https://www.google.com/maps/place//data=!4m2!3...  \n",
       "1  https://www.google.com/maps/place//data=!4m2!3...  \n",
       "2  https://www.google.com/maps/place//data=!4m2!3...  \n",
       "3  https://www.google.com/maps/place//data=!4m2!3...  \n",
       "4  https://www.google.com/maps/place//data=!4m2!3...  "
      ]
     },
     "execution_count": 35,
     "metadata": {},
     "output_type": "execute_result"
    }
   ],
   "source": [
    "df_data_sitios_final.head(5)"
   ]
  },
  {
   "cell_type": "code",
   "execution_count": 36,
   "metadata": {},
   "outputs": [],
   "source": [
    "ruta_csv = \"C:\\\\Users\\\\Usuario\\\\Desktop\\\\PROYECTO_FINAL\\\\GOOGLE\\\\DATA SITIOS\\\\metadata-sitios\\\\data_sitios.csv\"\n",
    "\n",
    "df_data_sitios_final.to_csv(ruta_csv, index=False)"
   ]
  }
 ],
 "metadata": {
  "kernelspec": {
   "display_name": "Python 3",
   "language": "python",
   "name": "python3"
  },
  "language_info": {
   "codemirror_mode": {
    "name": "ipython",
    "version": 3
   },
   "file_extension": ".py",
   "mimetype": "text/x-python",
   "name": "python",
   "nbconvert_exporter": "python",
   "pygments_lexer": "ipython3",
   "version": "3.11.7"
  }
 },
 "nbformat": 4,
 "nbformat_minor": 2
}
