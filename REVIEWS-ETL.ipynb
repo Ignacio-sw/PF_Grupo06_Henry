{
 "cells": [
  {
   "cell_type": "code",
   "execution_count": null,
   "metadata": {},
   "outputs": [],
   "source": [
    "import pandas as pd\n",
    "import json\n",
    "import os\n"
   ]
  },
  {
   "cell_type": "code",
   "execution_count": 4,
   "metadata": {},
   "outputs": [],
   "source": [
    "\n",
    "# Cargar el DataFrame existente\n",
    "# Supongamos que el DataFrame existente se llama df_data_sitios_final\n",
    "# Asegúrate de ajustar el nombre según lo que hayas utilizado en tu código anterior\n",
    "# También, asegúrate de tener las columnas necesarias, como \"gmap_id\"\n",
    "df_data_sitios_final = pd.read_csv(r\"C:\\\\Users\\\\Usuario\\\\Desktop\\\\PROYECTO_FINAL\\\\GOOGLE\\\\DATA SITIOS\\\\metadata-sitios\\\\data_sitios.csv\")\n",
    "\n",
    "# Lista de carpetas que contienen los nuevos archivos JSON\n",
    "carpetas_nuevos_data_sitios = [\n",
    "    r\"C:\\Users\\Usuario\\Desktop\\PROYECTO_FINAL\\REVIEW-ESTADOS\\reviews-estados\\review-Alabama\",\n",
    "    r\"C:\\Users\\Usuario\\Desktop\\PROYECTO_FINAL\\REVIEW-ESTADOS\\reviews-estados\\review-Alaska\",\n",
    "    # ... (añadir más carpetas según sea necesario) ...\n",
    "]\n",
    "\n",
    "# Lista para almacenar los resultados filtrados\n",
    "resultados_filtrados = []\n",
    "\n",
    "# Iterar sobre las filas del DataFrame existente\n",
    "for indice, fila in df_data_sitios_final.iterrows():\n",
    "    gmap_id_actual = fila['gmap_id']\n",
    "\n",
    "    # Iterar sobre las carpetas que contienen los nuevos archivos JSON\n",
    "    for carpeta in carpetas_nuevos_data_sitios:\n",
    "        ruta_archivo_nuevo = os.path.join(carpeta, f\"{gmap_id_actual}.json\")\n",
    "\n",
    "        # Verificar si el archivo existe\n",
    "        if os.path.exists(ruta_archivo_nuevo):\n",
    "            with open(ruta_archivo_nuevo, 'r', encoding='utf-8') as archivo_nuevo:\n",
    "                # Leer y cargar el contenido del nuevo archivo JSON\n",
    "                try:\n",
    "                    data_nuevo = json.load(archivo_nuevo)\n",
    "                    # Procesar y guardar la información relevante en la lista de resultados\n",
    "                    # Asumiendo que hay una clave específica en el nuevo JSON que deseas guardar\n",
    "                    if 'reviews' in data_nuevo:\n",
    "                        resultados_filtrados.append({'gmap_id': gmap_id_actual, 'nuevos_reviews': data_nuevo['reviews']})\n",
    "                except json.JSONDecodeError as e:\n",
    "                    print(f\"Error al decodificar JSON en {ruta_archivo_nuevo}: {e}\")\n",
    "\n",
    "# Convertir la lista de resultados en un nuevo DataFrame\n",
    "df_resultados_filtrados = pd.DataFrame(resultados_filtrados)\n",
    "\n",
    "# Guardar el nuevo DataFrame en un archivo CSV si es necesario\n",
    "df_resultados_filtrados.to_csv(\"reviews_filtrados.csv\", index=False)\n"
   ]
  },
  {
   "cell_type": "code",
   "execution_count": 5,
   "metadata": {},
   "outputs": [
    {
     "data": {
      "text/html": [
       "<div>\n",
       "<style scoped>\n",
       "    .dataframe tbody tr th:only-of-type {\n",
       "        vertical-align: middle;\n",
       "    }\n",
       "\n",
       "    .dataframe tbody tr th {\n",
       "        vertical-align: top;\n",
       "    }\n",
       "\n",
       "    .dataframe thead th {\n",
       "        text-align: right;\n",
       "    }\n",
       "</style>\n",
       "<table border=\"1\" class=\"dataframe\">\n",
       "  <thead>\n",
       "    <tr style=\"text-align: right;\">\n",
       "      <th></th>\n",
       "    </tr>\n",
       "  </thead>\n",
       "  <tbody>\n",
       "  </tbody>\n",
       "</table>\n",
       "</div>"
      ],
      "text/plain": [
       "Empty DataFrame\n",
       "Columns: []\n",
       "Index: []"
      ]
     },
     "execution_count": 5,
     "metadata": {},
     "output_type": "execute_result"
    }
   ],
   "source": [
    "df_resultados_filtrados.head(5)"
   ]
  }
 ],
 "metadata": {
  "kernelspec": {
   "display_name": "Python 3",
   "language": "python",
   "name": "python3"
  },
  "language_info": {
   "codemirror_mode": {
    "name": "ipython",
    "version": 3
   },
   "file_extension": ".py",
   "mimetype": "text/x-python",
   "name": "python",
   "nbconvert_exporter": "python",
   "pygments_lexer": "ipython3",
   "version": "3.11.7"
  }
 },
 "nbformat": 4,
 "nbformat_minor": 2
}
